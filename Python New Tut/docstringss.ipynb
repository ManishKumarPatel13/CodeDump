{
 "cells": [
  {
   "cell_type": "markdown",
   "metadata": {},
   "source": [
    "# What should a docstring look like?\n",
    "The doc string line should begin with a capital letter and end with a period.<br>\n",
    "<bold>The first line should be a short description.<bold><br>\n",
    "If there are more lines in the documentation string, the second line should be blank, visually separating the summary from the rest of the description.<br>\n",
    "The following lines should be one or more paragraphs describing the object’s calling conventions, side effects, etc<br>"
   ]
  },
  {
   "cell_type": "markdown",
   "metadata": {},
   "source": [
    "# Types of docStrings\n",
    "1. Triple-Quoted Strings\n",
    "2. Google Style Docstrings\n",
    "3. Numpydoc Style Docstrings\n",
    "4. One-line Docstrings\n",
    "5. Multi-line Docstrings\n",
    "6. Indentation in Docstrings\n",
    "7. Docstrings in Classes"
   ]
  },
  {
   "cell_type": "code",
   "execution_count": 1,
   "metadata": {},
   "outputs": [
    {
     "name": "stdout",
     "output_type": "stream",
     "text": [
      "Using __doc__:\n",
      "Demonstrates triple double quotes\n",
      "\tdocstrings and does nothing really.\n",
      "Using help:\n",
      "Help on function my_function in module __main__:\n",
      "\n",
      "my_function()\n",
      "    Demonstrates triple double quotes\n",
      "    docstrings and does nothing really.\n",
      "\n"
     ]
    }
   ],
   "source": [
    "# triple-Quoted strings\n",
    "def my_function():\n",
    "\t'''Demonstrates triple double quotes\n",
    "\tdocstrings and does nothing really.'''\n",
    "\n",
    "\treturn None\n",
    "\n",
    "print(\"Using __doc__:\")\n",
    "print(my_function.__doc__)\n",
    "\n",
    "print(\"Using help:\")\n",
    "help(my_function)\n"
   ]
  },
  {
   "cell_type": "code",
   "execution_count": null,
   "metadata": {},
   "outputs": [],
   "source": [
    "# using triple double quotes\n",
    "def my_function():\n",
    "\t' ' 'Demonstrates triple double quotes docstrings and does nothing really' ' '\n",
    "\n",
    "\treturn None\n",
    "\n",
    "print(\"Using __doc__:\")\n",
    "print(my_function.__doc__)\n",
    "\n",
    "print(\"Using help:\")\n",
    "help(my_function)\n"
   ]
  },
  {
   "cell_type": "code",
   "execution_count": 2,
   "metadata": {},
   "outputs": [
    {
     "name": "stdout",
     "output_type": "stream",
     "text": [
      "15\n",
      "\n",
      "\tMultiplies two numbers and returns the result.\n",
      "\n",
      "\tArgs:\n",
      "\t\ta (int): The first number.\n",
      "\t\tb (int): The second number.\n",
      "\n",
      "\tReturns:\n",
      "\t\tint: The product of a and b.\n",
      "\t\n"
     ]
    }
   ],
   "source": [
    "# Google styled docstrings \n",
    "'''Google style docstrings follow a specific format and are inspired by Google's \n",
    " documentation style guide. They provide a structured way to document Python code,\n",
    " including parameters, return values, and descriptions.'''\n",
    " \n",
    " \n",
    "def multiply_numbers(a, b):\n",
    "\t\"\"\"\n",
    "\tMultiplies two numbers and returns the result.\n",
    "\n",
    "\tArgs:\n",
    "\t\ta (int): The first number.\n",
    "\t\tb (int): The second number.\n",
    "\n",
    "\tReturns:\n",
    "\t\tint: The product of a and b.\n",
    "\t\"\"\"\n",
    "\treturn a * b\n",
    "print(multiply_numbers(3,5))\n",
    "print(multiply_numbers.__doc__)"
   ]
  },
  {
   "cell_type": "code",
   "execution_count": 3,
   "metadata": {},
   "outputs": [
    {
     "name": "stdout",
     "output_type": "stream",
     "text": [
      "0.5\n",
      "Help on function divide_numbers in module __main__:\n",
      "\n",
      "divide_numbers(a, b)\n",
      "    Divide two numbers.\n",
      "\n",
      "    Parameters\n",
      "    ----------\n",
      "    a : float\n",
      "            The dividend.\n",
      "    b : float\n",
      "            The divisor.\n",
      "\n",
      "    Returns\n",
      "    -------\n",
      "    float\n",
      "            The quotient of the division.\n",
      "\n"
     ]
    }
   ],
   "source": [
    "# Numpy doc style\n",
    "'''Numpydoc-style docstrings are widely used in the scientific and data analysis community, particularly\n",
    "for documenting functions and classes related to numerical computations and data manipulation. It is an extension\n",
    "of Google-style docstrings, with some additional conventions for documenting parameters and return values'''\n",
    "\n",
    "def divide_numbers(a, b):\n",
    "\t\"\"\"\n",
    "\tDivide two numbers.\n",
    "\n",
    "\tParameters\n",
    "\t----------\n",
    "\ta : float\n",
    "\t\tThe dividend.\n",
    "\tb : float\n",
    "\t\tThe divisor.\n",
    "\n",
    "\tReturns\n",
    "\t-------\n",
    "\tfloat\n",
    "\t\tThe quotient of the division.\n",
    "\t\"\"\"\n",
    "\tif b == 0:\n",
    "\t\traise ValueError(\"Division by zero is not allowed.\")\n",
    "\treturn a / b\n",
    "print(divide_numbers(3,6))\n",
    "help(divide_numbers)"
   ]
  },
  {
   "cell_type": "code",
   "execution_count": null,
   "metadata": {},
   "outputs": [],
   "source": []
  }
 ],
 "metadata": {
  "kernelspec": {
   "display_name": "Python 3",
   "language": "python",
   "name": "python3"
  },
  "language_info": {
   "codemirror_mode": {
    "name": "ipython",
    "version": 3
   },
   "file_extension": ".py",
   "mimetype": "text/x-python",
   "name": "python",
   "nbconvert_exporter": "python",
   "pygments_lexer": "ipython3",
   "version": "3.12.0"
  }
 },
 "nbformat": 4,
 "nbformat_minor": 2
}
