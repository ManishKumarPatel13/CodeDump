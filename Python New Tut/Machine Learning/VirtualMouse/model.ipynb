{
 "cells": [
  {
   "cell_type": "code",
   "execution_count": null,
   "metadata": {},
   "outputs": [],
   "source": [
    "import cv2 \n",
    "import mediapipe as mp\n",
    "import pyautogui"
   ]
  },
  {
   "cell_type": "code",
   "execution_count": null,
   "metadata": {},
   "outputs": [],
   "source": []
  },
  {
   "cell_type": "code",
   "execution_count": null,
   "metadata": {},
   "outputs": [],
   "source": [
    "# Initialize hand detection \n",
    "mp_hands = mp.solutions.hands.Hands(max_num_hands=1, min_detection_confidence=0.7, min_tracking_confidence=0.5)\n",
    "mp_drawing = mp.solutions.drawing_utils\n",
    "\n",
    "cap = cv2.VideoCapture(0)\n",
    "\n",
    "pyautogui.FAILSAFE = False\n",
    "\n",
    "# define hand landmark to track\n",
    "wrist_landmark_id = mp.solutions.hands.HandLandmark.WRIST\n",
    "index_landmark_id = mp.solutions.hands.HandLandmark.INDEX_FINGER_TIP\n",
    "\n",
    "# get screen size\n",
    "screen_width, screen_height = pyautogui.size()\n",
    "\n",
    "# sensitivity factor for cursor movement (adjust for desired speed)\n",
    "sensivity = 5\n",
    "\n",
    "# Initialize previous landmark positions\n",
    "prev_fingertip_x = 0\n",
    "prev_fingertip_y = 0\n",
    "\n",
    "\n",
    "\n",
    "\n",
    "    \n",
    "    \n",
    "    \n",
    "    \n"
   ]
  },
  {
   "cell_type": "code",
   "execution_count": null,
   "metadata": {},
   "outputs": [],
   "source": [
    "\n",
    "        \n",
    "def detect_hands(frame):\n",
    "  \"\"\"\n",
    "  Detects hands in a frame using MediaPipe.\n",
    "\n",
    "  Args:\n",
    "      frame: The frame to be processed.\n",
    "\n",
    "  Returns:\n",
    "      A list of hand landmarks if a hand is detected, otherwise None.\n",
    "  \"\"\"\n",
    "  rgb_frame = cv2.cvtColor(frame, cv2.COLOR_BGR2RGB)  # Convert to RGB for MediaPipe\n",
    "  results = mp_hands.process(rgb_frame)\n",
    "  if results.multi_hand_landmarks:\n",
    "    hand_landmarks = results.multi_hand_landmarks[0]  # Assuming only one hand\n",
    "    return hand_landmarks\n",
    "  else:\n",
    "    return None\n",
    "\n",
    "while True:\n",
    "  # Take a picture with the camera\n",
    "  success, frame = cap.read()\n",
    "\n",
    "  # 2. Spot the Tips (continued) - Find the fingertip in this picture\n",
    "  hand_landmarks = detect_hands(frame)  # This function is defined later\n",
    "\n",
    "  # If we found a fingertip, let's move the cursor!\n",
    "  if hand_landmarks:\n",
    "    # Remember where the fingertip is now\n",
    "    fingertip_landmark = hand_landmarks.landmark[mp.solutions.hands.HandLandmark.INDEX_FINGER_TIP]\n",
    "    fingertip_x = int(fingertip_landmark.x * screen_width)\n",
    "    fingertip_y = int(fingertip_landmark.y * screen_height)\n",
    "\n",
    "    # 3. Track the Movement (continued) - Remember where it was before\n",
    "    movement_x = fingertip_x - prev_fingertip_x\n",
    "    movement_y = fingertip_y - prev_fingertip_y\n",
    "\n",
    "    # Make the movement smoother (like a steady remote control)\n",
    "    smoothing_factor = 0.5\n",
    "    smoothed_movement_x = smoothing_factor * movement_x + (1 - smoothing_factor) * prev_fingertip_x\n",
    "    smoothed_movement_y = smoothing_factor * movement_y + (1 - smoothing_factor) * prev_fingertip_y\n",
    "\n",
    "    # 4. Move the Cursor (continued) - Move the mouse pointer based on finger movement\n",
    "    pyautogui.moveRel(smoothed_movement_x, smoothed_movement_y, duration=0.01)\n",
    "\n",
    "    # Remember where the fingertip is for next time\n",
    "    prev_fingertip_x = smoothed_movement_x\n",
    "    prev_fingertip_y = smoothed_movement_y\n",
    "\n",
    "  # Show the picture with the fingertip (optional)\n",
    "  # cv2.imshow('Hand', frame)\n",
    "\n",
    "  # Close the program if you press 'Esc'\n",
    "  if cv2.waitKey(5) & 0xFF == 27:\n",
    "    break\n",
    "\n",
    "# Clean up the camera\n",
    "cap.release()\n",
    "cv2.destroyAllWindows()\n",
    "\n"
   ]
  },
  {
   "cell_type": "code",
   "execution_count": null,
   "metadata": {},
   "outputs": [],
   "source": [
    "main()"
   ]
  }
 ],
 "metadata": {
  "kernelspec": {
   "display_name": "Python 3",
   "language": "python",
   "name": "python3"
  },
  "language_info": {
   "codemirror_mode": {
    "name": "ipython",
    "version": 3
   },
   "file_extension": ".py",
   "mimetype": "text/x-python",
   "name": "python",
   "nbconvert_exporter": "python",
   "pygments_lexer": "ipython3",
   "version": "3.12.0"
  }
 },
 "nbformat": 4,
 "nbformat_minor": 2
}
