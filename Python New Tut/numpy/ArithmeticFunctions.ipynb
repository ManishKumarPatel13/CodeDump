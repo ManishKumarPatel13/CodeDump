{
 "cells": [
  {
   "cell_type": "markdown",
   "metadata": {},
   "source": [
    "# These are the arithmetic functions in numpy\n",
    "\n",
    "1. np.min(x) - it depends on the axis of observation\n",
    "2. np.max(x)\n",
    "3. np.argmin(x) - this gives the position of the min element\n",
    "4. np.sqrt(x)\n",
    "5. np.sin(x)\n",
    "6. np.cos(x)\n",
    "7. np.cumsum(x) - it is like the fibonacci series just the first one in array would as it is"
   ]
  }
 ],
 "metadata": {
  "language_info": {
   "name": "python"
  },
  "orig_nbformat": 4
 },
 "nbformat": 4,
 "nbformat_minor": 2
}
