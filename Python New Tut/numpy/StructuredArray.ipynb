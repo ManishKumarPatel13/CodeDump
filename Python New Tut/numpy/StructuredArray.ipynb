{
 "cells": [
  {
   "cell_type": "code",
   "execution_count": 1,
   "metadata": {},
   "outputs": [],
   "source": [
    "import numpy as np"
   ]
  },
  {
   "cell_type": "markdown",
   "metadata": {},
   "source": [
    "# Structured Array\n",
    "Values are stored in a array in a form structure\n",
    "\n",
    "or \n",
    "\n",
    "A structured array in NumPy is a data structure that can store data of different types and sizes in a single array. This is in contrast to regular NumPy arrays, which can only store data of a single type and size."
   ]
  },
  {
   "cell_type": "code",
   "execution_count": null,
   "metadata": {},
   "outputs": [],
   "source": [
    "# A structured array in NumPy is a data structure that can store data of different types and sizes in a single array. This is in contrast to regular NumPy arrays, which can only store data of a single type and size.\n",
    "# Structured arrays are created using the dtype keyword. The dtype keyword can be used to define a structured data type, which is a sequence of fields, each with its own name, type, and size.\n",
    "\n",
    "import numpy as np\n",
    "\n",
    "structar = np.dtype([('name', 'U10'), ('age', 'i4'), ('height', 'f8')]) # making the array structure\n",
    "\n",
    "students = np.array([('Alice', 25, 1.75), ('Bob', 30, 1.8)], dtype=structar) # using the structured array by defining using dtype\n",
    "\n",
    "\"\"\"The students array now contains two rows of data, one for each student. Each row contains three fields: name, age, and height.\n",
    "\n",
    "Structured arrays can be accessed like regular NumPy arrays. For example, the following code prints the name of the first student:\"\"\"\n",
    "\n",
    "print(students[0]['name'])\n",
    "\n",
    "print(students[1].height) # we can access fields of a structured array using attribute notation. For example, the following code prints the height of the second student:\n"
   ]
  }
 ],
 "metadata": {
  "kernelspec": {
   "display_name": "Python 3",
   "language": "python",
   "name": "python3"
  },
  "language_info": {
   "codemirror_mode": {
    "name": "ipython",
    "version": 3
   },
   "file_extension": ".py",
   "mimetype": "text/x-python",
   "name": "python",
   "nbconvert_exporter": "python",
   "pygments_lexer": "ipython3",
   "version": "3.12.0"
  }
 },
 "nbformat": 4,
 "nbformat_minor": 2
}
