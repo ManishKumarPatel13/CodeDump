{
 "cells": [
  {
   "cell_type": "markdown",
   "metadata": {},
   "source": [
    "# DataTypes in Numpy Array\n",
    "\n",
    "1. Bool - true or false and stored as a byte\n",
    "2. int_ - Default integer type (same as C long) normally either int32 or int64\n",
    "3. intc - identical to C int (normally int32 or int64)\n",
    "4. intp - Integer used for indexing \n",
    "5. int8 - Byte(-128 to 127)\n",
    "6. int16 - Integer(-32768 to 32767)\n",
    "7. int32 - Integer(-2147483648 to 2147483647)\n",
    "8. int64 - Integer(-9223372036854775808 to 9223372036854775807)\n",
    "9. uint8 - Unsigned Integer (0 to 255)\n",
    "10. uint16 - Unsigned Integer(0 to 65535)\n",
    "11. uint32 - (0 to 4294967295)\n",
    "12. uint64 - (0 to 18446744073709551615)\n",
    "13. float_ - Shorthand for float64\n",
    "14. float16 - Half precision float\n",
    "15. float32 - single precision float\n",
    "16. float64 - double precision float\n",
    "17. complex_ - shorthand for complex128\n",
    "18. complex64 - complex number, represented by two 32 bit floats (real and imaginary components)\n",
    "19. complex128 - complex number, represented by two 64 bit floats (real and imaginary components)"
   ]
  },
  {
   "cell_type": "code",
   "execution_count": 7,
   "metadata": {},
   "outputs": [
    {
     "name": "stdout",
     "output_type": "stream",
     "text": [
      "<U32\n"
     ]
    }
   ],
   "source": [
    "# Check for datatype\n",
    "import numpy as np\n",
    "var = np.array([1,2,3,1.2, \"a\", \"b\"])\n",
    "print(var.dtype)"
   ]
  },
  {
   "cell_type": "markdown",
   "metadata": {},
   "source": [
    "# List of characters that are used to represent dtype in numpy\n",
    "\n",
    "i - integer,\n",
    "b - boolean,\n",
    "u - unsigned integer,\n",
    "f - float,\n",
    "c - complex float,\n",
    "m - timedelta,\n",
    "M - datetime,\n",
    "O - object,\n",
    "S - string,\n",
    "U - unicode string,\n",
    "V - the fixed chunk of memory for other types (void),\n",
    "\n",
    "# TypeCasting of DataTypes\n"
   ]
  },
  {
   "cell_type": "code",
   "execution_count": 8,
   "metadata": {},
   "outputs": [
    {
     "name": "stdout",
     "output_type": "stream",
     "text": [
      "int32\n"
     ]
    }
   ],
   "source": [
    "x = np.array([1, 2, 3, 4], dtype=np.int32) # this will change or create a array with given dtype\n",
    "print(x.dtype)\n"
   ]
  },
  {
   "cell_type": "code",
   "execution_count": 9,
   "metadata": {},
   "outputs": [
    {
     "name": "stdout",
     "output_type": "stream",
     "text": [
      "float64\n"
     ]
    }
   ],
   "source": [
    "x1 = np.array([1, 2, 3, 4], dtype=\"f\")\n",
    "x2 = np.array([1, 2, 3, 4])\n",
    "# x3 = np.float32(x2) # This will convert to float32\n",
    "x3 = x2.astype(float)\n",
    "\n",
    "print(x3.dtype)\n"
   ]
  }
 ],
 "metadata": {
  "kernelspec": {
   "display_name": "Python 3",
   "language": "python",
   "name": "python3"
  },
  "language_info": {
   "codemirror_mode": {
    "name": "ipython",
    "version": 3
   },
   "file_extension": ".py",
   "mimetype": "text/x-python",
   "name": "python",
   "nbconvert_exporter": "python",
   "pygments_lexer": "ipython3",
   "version": "3.11.0"
  },
  "orig_nbformat": 4
 },
 "nbformat": 4,
 "nbformat_minor": 2
}
