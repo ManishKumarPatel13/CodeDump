{
 "cells": [
  {
   "cell_type": "markdown",
   "metadata": {},
   "source": [
    "# What is BroadCasting?\n",
    "\n",
    "It describes how numpy treats arrays with different shapes during arithmetic operations so it shapes the arrays of different dimensions to be able to work with a array of different dimension\n",
    "\n",
    "rules :-\n",
    "i) same dimension\n",
    "ii) any one value like no. of rows should be equal to no. of colums or rows of other array"
   ]
  },
  {
   "cell_type": "code",
   "execution_count": 1,
   "metadata": {},
   "outputs": [
    {
     "ename": "ValueError",
     "evalue": "operands could not be broadcast together with shapes (4,) (3,) ",
     "output_type": "error",
     "traceback": [
      "\u001b[1;31m---------------------------------------------------------------------------\u001b[0m",
      "\u001b[1;31mValueError\u001b[0m                                Traceback (most recent call last)",
      "\u001b[1;32mc:\\Users\\VIDYA CHARAN\\Python New Tut\\numpy\\BroadCasting.ipynb Cell 2\u001b[0m line \u001b[0;36m4\n\u001b[0;32m      <a href='vscode-notebook-cell:/c%3A/Users/VIDYA%20CHARAN/Python%20New%20Tut/numpy/BroadCasting.ipynb#W2sZmlsZQ%3D%3D?line=1'>2</a>\u001b[0m var1 \u001b[39m=\u001b[39m np\u001b[39m.\u001b[39marray([\u001b[39m1\u001b[39m, \u001b[39m2\u001b[39m, \u001b[39m3\u001b[39m, \u001b[39m4\u001b[39m])\n\u001b[0;32m      <a href='vscode-notebook-cell:/c%3A/Users/VIDYA%20CHARAN/Python%20New%20Tut/numpy/BroadCasting.ipynb#W2sZmlsZQ%3D%3D?line=2'>3</a>\u001b[0m var2 \u001b[39m=\u001b[39m np\u001b[39m.\u001b[39marray([\u001b[39m1\u001b[39m, \u001b[39m2\u001b[39m, \u001b[39m3\u001b[39m])\n\u001b[1;32m----> <a href='vscode-notebook-cell:/c%3A/Users/VIDYA%20CHARAN/Python%20New%20Tut/numpy/BroadCasting.ipynb#W2sZmlsZQ%3D%3D?line=3'>4</a>\u001b[0m \u001b[39mprint\u001b[39m(var1 \u001b[39m+\u001b[39;49m var2)\n",
      "\u001b[1;31mValueError\u001b[0m: operands could not be broadcast together with shapes (4,) (3,) "
     ]
    }
   ],
   "source": [
    "import numpy as np\n",
    "var1 = np.array([1, 2, 3, 4])\n",
    "var2 = np.array([1, 2, 3])\n",
    "# print(var1 + var2) # This will give valueError because the shapes of both arrays are different\n"
   ]
  },
  {
   "cell_type": "code",
   "execution_count": 20,
   "metadata": {},
   "outputs": [
    {
     "name": "stdout",
     "output_type": "stream",
     "text": [
      "(4, 1)\n",
      "(1, 2)\n",
      "[[6 4]\n",
      " [5 3]\n",
      " [6 4]\n",
      " [7 5]]\n"
     ]
    }
   ],
   "source": [
    "x = np.random.randint(1, 5, (4, 1))\n",
    "print(x.shape)\n",
    "\n",
    "y = np.random.randint(1, 5, (1, 2))\n",
    "print(y.shape)\n",
    "\n",
    "print(x+y) # This will not show error because here one dimension value is one"
   ]
  }
 ],
 "metadata": {
  "kernelspec": {
   "display_name": "Python 3",
   "language": "python",
   "name": "python3"
  },
  "language_info": {
   "codemirror_mode": {
    "name": "ipython",
    "version": 3
   },
   "file_extension": ".py",
   "mimetype": "text/x-python",
   "name": "python",
   "nbconvert_exporter": "python",
   "pygments_lexer": "ipython3",
   "version": "3.11.0"
  },
  "orig_nbformat": 4
 },
 "nbformat": 4,
 "nbformat_minor": 2
}
