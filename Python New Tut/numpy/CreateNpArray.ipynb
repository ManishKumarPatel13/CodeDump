{
 "cells": [
  {
   "cell_type": "markdown",
   "metadata": {},
   "source": [
    "# CREATION\n"
   ]
  },
  {
   "cell_type": "code",
   "execution_count": 2,
   "metadata": {},
   "outputs": [
    {
     "name": "stdout",
     "output_type": "stream",
     "text": [
      "[1 2 3 4 5]\n"
     ]
    }
   ],
   "source": [
    "import numpy as np\n",
    "y = np.array([1, 2, 3, 4, 5])\n",
    "print(y)\n"
   ]
  },
  {
   "cell_type": "code",
   "execution_count": 3,
   "metadata": {},
   "outputs": [
    {
     "name": "stdout",
     "output_type": "stream",
     "text": [
      "<class 'numpy.ndarray'>\n"
     ]
    }
   ],
   "source": [
    "l = [2, 3, 4, 5]\n",
    "l = np.array(l)\n",
    "print(type(l))"
   ]
  },
  {
   "cell_type": "markdown",
   "metadata": {},
   "source": [
    "# You Can Make various types of arrays based on their dimensions\n",
    "ndim is used to check the dimension of an array"
   ]
  },
  {
   "cell_type": "code",
   "execution_count": 4,
   "metadata": {},
   "outputs": [
    {
     "name": "stdout",
     "output_type": "stream",
     "text": [
      "<class 'numpy.ndarray'>\n",
      "2\n"
     ]
    }
   ],
   "source": [
    "l = np.array([[1, 2, 3, 4] , [5, 6, 7, 8]]) # No of elements in both should be same else it throws an error\n",
    "l = np.array(l)\n",
    "print(type(l))\n",
    "print(l.ndim)"
   ]
  },
  {
   "cell_type": "code",
   "execution_count": 5,
   "metadata": {},
   "outputs": [
    {
     "name": "stdout",
     "output_type": "stream",
     "text": [
      "[[[[[[[[[[1 2 3 4]]]]]]]]]]\n"
     ]
    }
   ],
   "source": [
    "l = np.array([1, 2, 3, 4], ndmin=10) # this will create an numpy array with 10 dimensions\n",
    "print(l)"
   ]
  },
  {
   "cell_type": "markdown",
   "metadata": {},
   "source": [
    "# Special Numpy Arrays"
   ]
  },
  {
   "cell_type": "code",
   "execution_count": 6,
   "metadata": {},
   "outputs": [
    {
     "name": "stdout",
     "output_type": "stream",
     "text": [
      "[0. 0. 0. 0.]\n",
      "[[0. 0. 0. 0.]\n",
      " [0. 0. 0. 0.]\n",
      " [0. 0. 0. 0.]]\n"
     ]
    }
   ],
   "source": [
    "# All elements filled with 0\n",
    "import numpy as np\n",
    "ar_zero = np.zeros(4)\n",
    "ar_zero_d = np.zeros((3, 4)) # this will create a 3d array with 4 zeros in each dimension\n",
    "print(ar_zero)\n",
    "print(ar_zero_d)"
   ]
  },
  {
   "cell_type": "code",
   "execution_count": 7,
   "metadata": {},
   "outputs": [
    {
     "name": "stdout",
     "output_type": "stream",
     "text": [
      "[[1. 1. 1. 1.]\n",
      " [1. 1. 1. 1.]\n",
      " [1. 1. 1. 1.]]\n"
     ]
    }
   ],
   "source": [
    "# All elements filled with 1\n",
    "ar_one = np.ones((3, 4))\n",
    "print (ar_one)"
   ]
  },
  {
   "cell_type": "code",
   "execution_count": 8,
   "metadata": {},
   "outputs": [
    {
     "name": "stdout",
     "output_type": "stream",
     "text": [
      "[0. 0. 0. 0.]\n"
     ]
    }
   ],
   "source": [
    "# Empty array\n",
    "ar_empty = np.empty(4)\n",
    "print(ar_empty)"
   ]
  },
  {
   "cell_type": "code",
   "execution_count": 9,
   "metadata": {},
   "outputs": [
    {
     "name": "stdout",
     "output_type": "stream",
     "text": [
      "[1 2 3 4 5 6 7]\n"
     ]
    }
   ],
   "source": [
    "# array with a range\n",
    "ar_rn = np.arange(1, 8)\n",
    "print(ar_rn)"
   ]
  },
  {
   "cell_type": "code",
   "execution_count": 10,
   "metadata": {},
   "outputs": [
    {
     "name": "stdout",
     "output_type": "stream",
     "text": [
      "[[1. 0. 0. 0. 0.]\n",
      " [0. 1. 0. 0. 0.]\n",
      " [0. 0. 1. 0. 0.]]\n"
     ]
    }
   ],
   "source": [
    "# all diagonal elements filled with 1\n",
    "ar_dia = np.eye(3, 5)\n",
    "print(ar_dia)"
   ]
  },
  {
   "cell_type": "code",
   "execution_count": 19,
   "metadata": {},
   "outputs": [
    {
     "name": "stdout",
     "output_type": "stream",
     "text": [
      "[0.   0.25 0.5  0.75 1.  ]\n"
     ]
    }
   ],
   "source": [
    "# Create an array with specific interval\n",
    "ar_lin = np.linspace(0, 1, num= 5) # num gives the no. of elements in each episode\n",
    "print(ar_lin)"
   ]
  },
  {
   "cell_type": "markdown",
   "metadata": {},
   "source": [
    "# Create numpy array with random numbers"
   ]
  },
  {
   "cell_type": "code",
   "execution_count": 12,
   "metadata": {},
   "outputs": [
    {
     "name": "stdout",
     "output_type": "stream",
     "text": [
      "[[0.98449901 0.33048574 0.93442626 0.49802707 0.86616404]\n",
      " [0.8522109  0.96365055 0.92418494 0.1898177  0.09830507]]\n"
     ]
    }
   ],
   "source": [
    "# Using rand\n",
    "ar_rand = np.random.rand(5) # This will create array with random values between 0 to 1\n",
    "ar_rand1 = np.random.rand(2, 5) # this will create 2d array with random values between 0 to 1\n",
    "print(ar_rand1)"
   ]
  },
  {
   "cell_type": "code",
   "execution_count": 13,
   "metadata": {},
   "outputs": [
    {
     "name": "stdout",
     "output_type": "stream",
     "text": [
      "[[-0.87187597  0.98858437  0.85661812  0.24808468]\n",
      " [-0.53848427  0.06951617 -1.09032927 -0.0844306 ]]\n"
     ]
    }
   ],
   "source": [
    "# Using randn\n",
    "ar_randn = np.random.randn(4) # This will create an array of random values ranging from -1 to 1\n",
    "ar_randn1 = np.random.randn(2, 4) # For 2D\n",
    "print(ar_randn1)"
   ]
  },
  {
   "cell_type": "code",
   "execution_count": 14,
   "metadata": {},
   "outputs": [
    {
     "name": "stdout",
     "output_type": "stream",
     "text": [
      "[[0.56454779 0.14017056 0.17058803 0.00352931]\n",
      " [0.25295623 0.06360279 0.22679573 0.18789592]]\n"
     ]
    }
   ],
   "source": [
    "# Using ranf\n",
    "ar_ranf = np.random.ranf(4) # This creates a random array with values ranging from 0.0 to 0.99 we can also define range as [0.0, 1.0)\n",
    "ar_ranf1 = np.random.ranf((2, 4)) # For 2D\n",
    "print(ar_ranf1) "
   ]
  },
  {
   "cell_type": "code",
   "execution_count": 15,
   "metadata": {},
   "outputs": [
    {
     "name": "stdout",
     "output_type": "stream",
     "text": [
      "[[16 19  4 12]\n",
      " [10  4 12 14]]\n"
     ]
    }
   ],
   "source": [
    "# using randint\n",
    "ar_randint = np.random.randint(1, 5, 3); # This will create a array of 3 elements and its range would be 1 to 5 \n",
    "ar_randint1 = np.random.randint(1, 20, (2, 4)); # To Create 2D array\n",
    "print(ar_randint1)"
   ]
  }
 ],
 "metadata": {
  "kernelspec": {
   "display_name": "Python 3",
   "language": "python",
   "name": "python3"
  },
  "language_info": {
   "codemirror_mode": {
    "name": "ipython",
    "version": 3
   },
   "file_extension": ".py",
   "mimetype": "text/x-python",
   "name": "python",
   "nbconvert_exporter": "python",
   "pygments_lexer": "ipython3",
   "version": "3.11.0"
  },
  "orig_nbformat": 4
 },
 "nbformat": 4,
 "nbformat_minor": 2
}
