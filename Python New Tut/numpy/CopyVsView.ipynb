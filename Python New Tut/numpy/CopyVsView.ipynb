{
 "cells": [
  {
   "cell_type": "markdown",
   "metadata": {},
   "source": [
    "# Copy VS View   "
   ]
  },
  {
   "cell_type": "markdown",
   "metadata": {
    "slideshow": {
     "slide_type": "notes"
    }
   },
   "source": [
    "   Copy                        |           View<br>\n",
    "   i) The copy owns the data   | The view does not own the data<br>\n",
    "  ii) The copy of an array is a new array  | It is a view of original array<br>               | \n",
    " iii) The changes made in the copy data does not reflect in the original array | Any changes made to the view will affect the<br>\n",
    " original array , changes made to the original array will affect the view"
   ]
  },
  {
   "cell_type": "code",
   "execution_count": 3,
   "metadata": {},
   "outputs": [
    {
     "name": "stdout",
     "output_type": "stream",
     "text": [
      "var: [12  2  3  4]\n",
      "Copy: [1 2 3 4]\n"
     ]
    }
   ],
   "source": [
    "import numpy as np\n",
    "var = np.array([1, 2, 3, 4])\n",
    "cop = var.copy()\n",
    "var[0] = 12\n",
    "print(f\"var: {var}\")\n",
    "print(f\"Copy: {cop}\")\n"
   ]
  },
  {
   "cell_type": "code",
   "execution_count": 4,
   "metadata": {},
   "outputs": [
    {
     "name": "stdout",
     "output_type": "stream",
     "text": [
      "x: [55  6  7  8]\n",
      "view: [55  6  7  8]\n"
     ]
    }
   ],
   "source": [
    "x = np.array([5, 6, 7, 8])\n",
    "vieww = x.view() \n",
    "x[0] = 55\n",
    "print(f\"x: {x}\")\n",
    "print(f\"view: {vieww}\")"
   ]
  },
  {
   "cell_type": "markdown",
   "metadata": {},
   "source": []
  }
 ],
 "metadata": {
  "kernelspec": {
   "display_name": "Python 3",
   "language": "python",
   "name": "python3"
  },
  "language_info": {
   "codemirror_mode": {
    "name": "ipython",
    "version": 3
   },
   "file_extension": ".py",
   "mimetype": "text/x-python",
   "name": "python",
   "nbconvert_exporter": "python",
   "pygments_lexer": "ipython3",
   "version": "3.11.0"
  },
  "orig_nbformat": 4
 },
 "nbformat": 4,
 "nbformat_minor": 2
}
