{
 "cells": [
  {
   "cell_type": "markdown",
   "metadata": {},
   "source": [
    "# Numpy Functions"
   ]
  },
  {
   "cell_type": "code",
   "execution_count": 6,
   "metadata": {},
   "outputs": [],
   "source": [
    "import numpy as np\n",
    "import timeit\n",
    "\n",
    "var = np.array([1,2,3,4,6])\n"
   ]
  },
  {
   "cell_type": "markdown",
   "metadata": {},
   "source": [
    "# Search"
   ]
  },
  {
   "cell_type": "code",
   "execution_count": 4,
   "metadata": {},
   "outputs": [
    {
     "data": {
      "text/plain": [
       "(array([2], dtype=int64),)"
      ]
     },
     "execution_count": 4,
     "metadata": {},
     "output_type": "execute_result"
    }
   ],
   "source": [
    "np.where(var < 3, 4, -3) # (condition, if true, if false)\n",
    "np.where(var == 3) # get index\n"
   ]
  },
  {
   "cell_type": "code",
   "execution_count": 23,
   "metadata": {},
   "outputs": [
    {
     "data": {
      "text/plain": [
       "array([0, 2, 4], dtype=int64)"
      ]
     },
     "execution_count": 23,
     "metadata": {},
     "output_type": "execute_result"
    }
   ],
   "source": [
    "# Search sort - it returns the index where the element should be inserted to keep the array sorted by using binary search\n",
    "x = np.searchsorted(var, 1, side='right') # it returns the index where should the element should be inserted  side is by default Left but if you want to search from end then give right\n",
    "x1 = np.searchsorted(var, [1, 3, 5]) # it will return where should 1, 3 and 5 should be placed \n",
    "x1"
   ]
  },
  {
   "cell_type": "markdown",
   "metadata": {},
   "source": [
    "# Sort"
   ]
  },
  {
   "cell_type": "code",
   "execution_count": 25,
   "metadata": {},
   "outputs": [
    {
     "name": "stdout",
     "output_type": "stream",
     "text": [
      "[1 2 3 4 5 6 7] <class 'reversed'>\n"
     ]
    }
   ],
   "source": [
    "var1 = np.array([1, 3, 2, 7, 5, 4, 6])\n",
    "print(np.sort(var1))"
   ]
  },
  {
   "cell_type": "markdown",
   "metadata": {},
   "source": [
    "# Filter"
   ]
  },
  {
   "cell_type": "code",
   "execution_count": 26,
   "metadata": {},
   "outputs": [
    {
     "data": {
      "text/plain": [
       "array([1, 2, 5, 6])"
      ]
     },
     "execution_count": 26,
     "metadata": {},
     "output_type": "execute_result"
    }
   ],
   "source": [
    "# copy data from a array to a new array\n",
    "filtered_index = [True, False, True, False, True, False, True]\n",
    "filteredArray = var1[filtered_index] # This will fill filtered array with the value in var1 at True \n",
    "filteredArray"
   ]
  },
  {
   "cell_type": "markdown",
   "metadata": {},
   "source": [
    "# Shuffle"
   ]
  },
  {
   "cell_type": "code",
   "execution_count": 8,
   "metadata": {},
   "outputs": [
    {
     "name": "stdout",
     "output_type": "stream",
     "text": [
      "[2 3 6 4 1]\n"
     ]
    }
   ],
   "source": [
    "# shuffle - change indices of an given array randomly\n",
    "np.random.shuffle(var)\n",
    "print(var)\n",
    "\n"
   ]
  },
  {
   "cell_type": "markdown",
   "metadata": {},
   "source": [
    "# unique"
   ]
  },
  {
   "cell_type": "code",
   "execution_count": 11,
   "metadata": {},
   "outputs": [
    {
     "data": {
      "text/plain": [
       "(array([ 1,  2,  3, 42]), array([4, 4, 4, 1], dtype=int64))"
      ]
     },
     "execution_count": 11,
     "metadata": {},
     "output_type": "execute_result"
    }
   ],
   "source": [
    "# it is used to get a unique data in a repeated array\n",
    "varx = np.array([1,3, 42, 1, 1, 1, 2, 3, 3, 3, 2, 2, 2])\n",
    "# uni = np.unique(varx, return_index=True) # this will give the index of first occurence\n",
    "uni = np.unique(varx, return_counts=True) # This will return the no of occurences of the elements in the array\n",
    "uni"
   ]
  },
  {
   "cell_type": "markdown",
   "metadata": {},
   "source": [
    "# Resize"
   ]
  },
  {
   "cell_type": "code",
   "execution_count": 14,
   "metadata": {},
   "outputs": [
    {
     "data": {
      "text/plain": [
       "array([[1, 2],\n",
       "       [3, 4],\n",
       "       [5, 6],\n",
       "       [7, 8]])"
      ]
     },
     "execution_count": 14,
     "metadata": {},
     "output_type": "execute_result"
    }
   ],
   "source": [
    "var_re = np.array([[1,2,3, 4, 5], [6, 7, 8, 9, 10]])\n",
    "y = np.resize(var_re, (4, 2)) # This will reshape the array into desired shape first is no of row and second is no. of columns\n",
    "y"
   ]
  },
  {
   "cell_type": "markdown",
   "metadata": {},
   "source": [
    "# Flatten\n",
    "\n",
    "It happens in different orders\n",
    "1. 'C' means to flatten in row-major (C-style) order, It is the default type\n",
    "2. 'F' means to flatten in column-major (Fortran-style) order\n",
    "3. 'A' means to flatten in column-major order if 'a' is Fortran *contingous* in memory, row-major order otherwise\n",
    "4. 'K' means to flatten 'a' in the order the elements occur in memory.\n"
   ]
  },
  {
   "cell_type": "code",
   "execution_count": 28,
   "metadata": {},
   "outputs": [
    {
     "name": "stdout",
     "output_type": "stream",
     "text": [
      "[1 3 5 7 2 4 6 8]\n"
     ]
    }
   ],
   "source": [
    "# It converts 2D array into 1D\n",
    "print(y.flatten(order='F'))"
   ]
  },
  {
   "cell_type": "markdown",
   "metadata": {},
   "source": [
    "# Ravel"
   ]
  },
  {
   "cell_type": "code",
   "execution_count": 31,
   "metadata": {},
   "outputs": [
    {
     "name": "stdout",
     "output_type": "stream",
     "text": [
      "[1 3 5 7 2 4 6 8]\n"
     ]
    }
   ],
   "source": [
    "print(np.ravel(y, order=\"F\")) # same as flatten"
   ]
  }
 ],
 "metadata": {
  "kernelspec": {
   "display_name": "Python 3",
   "language": "python",
   "name": "python3"
  },
  "language_info": {
   "codemirror_mode": {
    "name": "ipython",
    "version": 3
   },
   "file_extension": ".py",
   "mimetype": "text/x-python",
   "name": "python",
   "nbconvert_exporter": "python",
   "pygments_lexer": "ipython3",
   "version": "3.11.0"
  },
  "orig_nbformat": 4
 },
 "nbformat": 4,
 "nbformat_minor": 2
}
