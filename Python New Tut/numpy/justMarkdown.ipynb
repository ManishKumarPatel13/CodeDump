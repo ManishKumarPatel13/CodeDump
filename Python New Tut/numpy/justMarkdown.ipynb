{
 "cells": [
  {
   "cell_type": "markdown",
   "metadata": {},
   "source": [
    "<code>Python \n",
    "str = \"This is a block of code\"<br>\n",
    "_print(str)_\n",
    "</code>"
   ]
  },
  {
   "cell_type": "markdown",
   "metadata": {
    "notebookRunGroups": {
     "groupValue": "1"
    }
   },
   "source": [
    "# Table\n",
    "\n",
    "<table style=\"width:20%\">\n",
    "<tr>\n",
    "<th><Name></th>\n",
    "<th><Class></th>\n",
    "<th><Marks></th>\n",
    "</tr>\n",
    "\n",
    "<tr>\n",
    "<td><rahul></td>\n",
    "<td><Cse AI></td>\n",
    "<td><8.3></td>\n",
    "</tr>\n",
    "\n",
    "<tr>\n",
    "<td><soniya></td>\n",
    "<td><Cse AI and ML></td>\n",
    "<td><8.8></td>\n",
    "</tr>\n",
    "</table>\n",
    "\n",
    "\n",
    "\n"
   ]
  },
  {
   "cell_type": "markdown",
   "metadata": {},
   "source": []
  }
 ],
 "metadata": {
  "language_info": {
   "name": "python"
  },
  "orig_nbformat": 4
 },
 "nbformat": 4,
 "nbformat_minor": 2
}
