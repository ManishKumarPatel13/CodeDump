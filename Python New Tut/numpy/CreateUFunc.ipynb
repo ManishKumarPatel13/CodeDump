{
 "cells": [
  {
   "cell_type": "markdown",
   "metadata": {},
   "source": [
    "# Creating Functions\n",
    "To create your own ufunc, you have to deifne a function, like you do in normal function in python, then you add it to the numpy function with frompyfunc() method.<br>\n",
    "Arguments of frompyfunc(): function, inputs, outputs\n"
   ]
  },
  {
   "cell_type": "code",
   "execution_count": 4,
   "metadata": {},
   "outputs": [
    {
     "name": "stdout",
     "output_type": "stream",
     "text": [
      "[6 8 10 12]\n",
      "<class 'numpy.ufunc'>\n"
     ]
    }
   ],
   "source": [
    "# ufunc for addtion\n",
    "import numpy as np\n",
    "def myadd(x, y):\n",
    "    return x+y\n",
    "\n",
    "myadd = np.frompyfunc(myadd, 2, 1) # 2 and 1 are different arrays you have to input 2 arrays and you'll get one array as output\n",
    "print(myadd([1, 2, 3, 4], [5, 6, 7, 8]))\n",
    "\n",
    "# Checking if this function is ufunc or not:\n",
    "print(type(myadd))\n"
   ]
  }
 ],
 "metadata": {
  "kernelspec": {
   "display_name": "Python 3",
   "language": "python",
   "name": "python3"
  },
  "language_info": {
   "codemirror_mode": {
    "name": "ipython",
    "version": 3
   },
   "file_extension": ".py",
   "mimetype": "text/x-python",
   "name": "python",
   "nbconvert_exporter": "python",
   "pygments_lexer": "ipython3",
   "version": "3.11.0"
  },
  "orig_nbformat": 4
 },
 "nbformat": 4,
 "nbformat_minor": 2
}
