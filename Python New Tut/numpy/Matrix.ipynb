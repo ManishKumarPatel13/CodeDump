{
 "cells": [
  {
   "cell_type": "markdown",
   "metadata": {},
   "source": [
    "# Matrix"
   ]
  },
  {
   "cell_type": "code",
   "execution_count": 12,
   "metadata": {},
   "outputs": [
    {
     "name": "stdout",
     "output_type": "stream",
     "text": [
      "[[1 2]\n",
      " [4 5]]\n"
     ]
    }
   ],
   "source": [
    "import numpy as np\n",
    "varm = np.matrix([[1, 2], [4, 5]])\n",
    "varm1 = np.matrix([[1, 2], [4, 5]])\n",
    "print(varm)\n",
    "var = np.array([[1,2,3], [4, 5, 6]])\n",
    "var1 = np.array([[1,2,3], [4, 5, 6]])\n"
   ]
  },
  {
   "cell_type": "markdown",
   "metadata": {},
   "source": [
    "## Arithmetic Operations"
   ]
  },
  {
   "cell_type": "code",
   "execution_count": 7,
   "metadata": {},
   "outputs": [
    {
     "name": "stdout",
     "output_type": "stream",
     "text": [
      "[[ 2  4  6]\n",
      " [ 8 10 12]]\n",
      "[[ 2  4  6]\n",
      " [ 8 10 12]]\n"
     ]
    }
   ],
   "source": [
    "# Additon and subtraction will be same\n",
    "print(np.add(var, var1))\n",
    "print(np.add(varm, varm1))"
   ]
  },
  {
   "cell_type": "code",
   "execution_count": 15,
   "metadata": {},
   "outputs": [
    {
     "name": "stdout",
     "output_type": "stream",
     "text": [
      "[[ 1  4  9]\n",
      " [16 25 36]]\n",
      "[[ 9 12]\n",
      " [24 33]]\n"
     ]
    }
   ],
   "source": [
    "# Multiplication - matrix have both dot(.) multiplication and cross(x) multiplication\n",
    "print(var*var1)\n",
    "print(varm.dot(varm1))"
   ]
  },
  {
   "cell_type": "markdown",
   "metadata": {},
   "source": [
    "# Functions"
   ]
  },
  {
   "cell_type": "code",
   "execution_count": 16,
   "metadata": {},
   "outputs": [
    {
     "name": "stdout",
     "output_type": "stream",
     "text": [
      "[[1 4]\n",
      " [2 5]]\n"
     ]
    }
   ],
   "source": [
    "# Transpose - colums becomes rows and rows become columns\n",
    "print(varm.T) # this will change the matrix into its transpose"
   ]
  },
  {
   "cell_type": "code",
   "execution_count": 17,
   "metadata": {},
   "outputs": [
    {
     "name": "stdout",
     "output_type": "stream",
     "text": [
      "[[1 4]\n",
      " [2 5]]\n"
     ]
    }
   ],
   "source": [
    "# Swapaxes - it also changes rows to columns and colums to rows but for a specific axis\n",
    "print(np.swapaxes(varm, 0, 1)) # It will convert 0 axis to 1\n"
   ]
  },
  {
   "cell_type": "code",
   "execution_count": 18,
   "metadata": {},
   "outputs": [
    {
     "name": "stdout",
     "output_type": "stream",
     "text": [
      "[[1 2]\n",
      " [4 5]]\n",
      "[[-1.66666667  0.66666667]\n",
      " [ 1.33333333 -0.33333333]]\n"
     ]
    }
   ],
   "source": [
    "# Inverse - A^-1 \n",
    "print(varm)\n",
    "print(np.linalg.inv(varm))"
   ]
  },
  {
   "cell_type": "code",
   "execution_count": 20,
   "metadata": {},
   "outputs": [
    {
     "name": "stdout",
     "output_type": "stream",
     "text": [
      "[[1 2]\n",
      " [4 5]]\n",
      "[[1 0]\n",
      " [0 1]]\n",
      "[[ 9 12]\n",
      " [24 33]]\n",
      "[[ 3.66666667 -1.33333333]\n",
      " [-2.66666667  1.        ]]\n"
     ]
    }
   ],
   "source": [
    "# Power - A^2 = AA it is performed by dot product\n",
    "print(varm)\n",
    "print(np.linalg.matrix_power(varm, 0)) # This will give the dot product of matrix with identity matrix\n",
    "print(np.linalg.matrix_power(varm, 2)) # This will give the dot product of matrix with the power of the matrix,if n > 0\n",
    "print(np.linalg.matrix_power(varm, -2)) # This will give the dot product of matrix with the inverse power of the matrix,if n < 0"
   ]
  },
  {
   "cell_type": "code",
   "execution_count": 22,
   "metadata": {},
   "outputs": [
    {
     "name": "stdout",
     "output_type": "stream",
     "text": [
      "[[1 2]\n",
      " [4 5]]\n",
      "2.9999999999999996\n"
     ]
    }
   ],
   "source": [
    "# Determinant\n",
    "print(varm)\n",
    "print(np.linalg.det(varm))\n"
   ]
  },
  {
   "cell_type": "code",
   "execution_count": 23,
   "metadata": {},
   "outputs": [
    {
     "name": "stdout",
     "output_type": "stream",
     "text": [
      "[[1 2]\n",
      " [4 5]]\n",
      "2\n"
     ]
    }
   ],
   "source": [
    "# Rank\n",
    "print(varm)\n",
    "print(np.linalg.matrix_rank(varm))"
   ]
  },
  {
   "cell_type": "code",
   "execution_count": 28,
   "metadata": {},
   "outputs": [
    {
     "name": "stdout",
     "output_type": "stream",
     "text": [
      "[[1 2]\n",
      " [4 5]]\n",
      "EighResult(eigenvalues=array([-1.47213595,  7.47213595]), eigenvectors=matrix([[-0.85065081,  0.52573111],\n",
      "        [ 0.52573111,  0.85065081]]))\n"
     ]
    }
   ],
   "source": [
    "# EigenValues and EigenVectors\n",
    "print(varm)\n",
    "print(np.linalg.eigh(varm))"
   ]
  },
  {
   "cell_type": "code",
   "execution_count": 29,
   "metadata": {},
   "outputs": [
    {
     "ename": "ValueError",
     "evalue": "shapes (1,2) and (1,2) not aligned: 2 (dim 1) != 1 (dim 0)",
     "output_type": "error",
     "traceback": [
      "\u001b[1;31m---------------------------------------------------------------------------\u001b[0m",
      "\u001b[1;31mValueError\u001b[0m                                Traceback (most recent call last)",
      "\u001b[1;32mc:\\Users\\VIDYA CHARAN\\Python New Tut\\numpy\\Matrix.ipynb Cell 14\u001b[0m line \u001b[0;36m2\n\u001b[0;32m      <a href='vscode-notebook-cell:/c%3A/Users/VIDYA%20CHARAN/Python%20New%20Tut/numpy/Matrix.ipynb#X21sZmlsZQ%3D%3D?line=0'>1</a>\u001b[0m \u001b[39m# Multiple dot product\u001b[39;00m\n\u001b[1;32m----> <a href='vscode-notebook-cell:/c%3A/Users/VIDYA%20CHARAN/Python%20New%20Tut/numpy/Matrix.ipynb#X21sZmlsZQ%3D%3D?line=1'>2</a>\u001b[0m \u001b[39mprint\u001b[39m(np\u001b[39m.\u001b[39;49mlinalg\u001b[39m.\u001b[39;49mmulti_dot(varm1))\n",
      "File \u001b[1;32mc:\\Users\\VIDYA CHARAN\\AppData\\Local\\Programs\\Python\\Python311\\Lib\\site-packages\\numpy\\linalg\\linalg.py:2734\u001b[0m, in \u001b[0;36mmulti_dot\u001b[1;34m(arrays, out)\u001b[0m\n\u001b[0;32m   2732\u001b[0m     \u001b[39mraise\u001b[39;00m \u001b[39mValueError\u001b[39;00m(\u001b[39m\"\u001b[39m\u001b[39mExpecting at least two arrays.\u001b[39m\u001b[39m\"\u001b[39m)\n\u001b[0;32m   2733\u001b[0m \u001b[39melif\u001b[39;00m n \u001b[39m==\u001b[39m \u001b[39m2\u001b[39m:\n\u001b[1;32m-> 2734\u001b[0m     \u001b[39mreturn\u001b[39;00m dot(arrays[\u001b[39m0\u001b[39;49m], arrays[\u001b[39m1\u001b[39;49m], out\u001b[39m=\u001b[39;49mout)\n\u001b[0;32m   2736\u001b[0m arrays \u001b[39m=\u001b[39m [asanyarray(a) \u001b[39mfor\u001b[39;00m a \u001b[39min\u001b[39;00m arrays]\n\u001b[0;32m   2738\u001b[0m \u001b[39m# save original ndim to reshape the result array into the proper form later\u001b[39;00m\n",
      "\u001b[1;31mValueError\u001b[0m: shapes (1,2) and (1,2) not aligned: 2 (dim 1) != 1 (dim 0)"
     ]
    }
   ],
   "source": [
    "# Multiple dot product\n",
    "print(np.linalg.multi_dot(varm1))"
   ]
  }
 ],
 "metadata": {
  "kernelspec": {
   "display_name": "Python 3",
   "language": "python",
   "name": "python3"
  },
  "language_info": {
   "codemirror_mode": {
    "name": "ipython",
    "version": 3
   },
   "file_extension": ".py",
   "mimetype": "text/x-python",
   "name": "python",
   "nbconvert_exporter": "python",
   "pygments_lexer": "ipython3",
   "version": "3.11.0"
  },
  "orig_nbformat": 4
 },
 "nbformat": 4,
 "nbformat_minor": 2
}
