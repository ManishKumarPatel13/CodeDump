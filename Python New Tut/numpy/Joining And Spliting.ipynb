{
 "cells": [
  {
   "cell_type": "markdown",
   "metadata": {},
   "source": [
    "# Joining\n",
    "Means putting contents of two or more arrays in a single array"
   ]
  },
  {
   "cell_type": "code",
   "execution_count": 22,
   "metadata": {},
   "outputs": [
    {
     "data": {
      "text/plain": [
       "array([1, 2, 3, 4, 5, 6, 7, 8])"
      ]
     },
     "execution_count": 22,
     "metadata": {},
     "output_type": "execute_result"
    }
   ],
   "source": [
    "import numpy as np\n",
    "var = np.array([1, 2, 3, 4])\n",
    "var1 = np.array([5, 6, 7, 8])\n",
    "ar = np.concatenate((var, var1)) # This will merge the two arrays\n",
    "ar"
   ]
  },
  {
   "cell_type": "code",
   "execution_count": 12,
   "metadata": {},
   "outputs": [
    {
     "data": {
      "text/plain": [
       "array([[ 1,  2,  3,  4,  9, 10, 11, 12],\n",
       "       [ 5,  6,  7,  8, 13, 14, 15, 16]])"
      ]
     },
     "execution_count": 12,
     "metadata": {},
     "output_type": "execute_result"
    }
   ],
   "source": [
    "# For 2D \n",
    "var2 = np.array([[1, 2, 3, 4], [5, 6, 7 , 8]])\n",
    "var3 = np.array([[9, 10, 11, 12], [13, 14, 15, 16]])\n",
    "# Here we can concatenate wrt to their axis\n",
    "# ar2D = np.concatenate((var2, var3)) # this will create a 2d array with all elements\n",
    "ar2D = np.concatenate((var2, var3), axis=1)\n",
    "\n",
    "ar2D"
   ]
  },
  {
   "cell_type": "code",
   "execution_count": 21,
   "metadata": {},
   "outputs": [
    {
     "data": {
      "text/plain": [
       "array([[[1, 5],\n",
       "        [2, 6],\n",
       "        [3, 7],\n",
       "        [4, 8]]])"
      ]
     },
     "execution_count": 21,
     "metadata": {},
     "output_type": "execute_result"
    }
   ],
   "source": [
    "# Using Stack Function\n",
    "vr = np.array([1, 2, 3,4])\n",
    "vr1 = np.array([5, 6, 7, 8])\n",
    "# ar_Stack = np.stack((vr, vr1), axis=1) # it will merge according to colums and you can use it on a 1D array also not like concatenate \n",
    "# ar_stack_hori = np.hstack((vr, vr1)) # this will merge according to rows\n",
    "# ar_stack_vertical = np.vstack((vr, vr1)) # This will merge according to colums\n",
    "ar_stack_height = np.dstack((vr, vr1)) # this will merge according to the height\n",
    "# ar_Stack\n",
    "# ar_stack_hori\n",
    "# ar_stack_vertical\n",
    "ar_stack_height"
   ]
  },
  {
   "cell_type": "markdown",
   "metadata": {},
   "source": [
    "# Splitting\n",
    "It breaks One array into multiple arrays"
   ]
  },
  {
   "cell_type": "code",
   "execution_count": 25,
   "metadata": {},
   "outputs": [
    {
     "name": "stdout",
     "output_type": "stream",
     "text": [
      "[array([1, 2]), array([3, 4]), array([5, 6])]\n"
     ]
    }
   ],
   "source": [
    "vars = np.array([1, 2, 3, 4, 5, 6])\n",
    "ars = np.array_split(vars, 3) # This will split array in 3 parts and return a list\n",
    "print(ars)\n"
   ]
  },
  {
   "cell_type": "code",
   "execution_count": 33,
   "metadata": {},
   "outputs": [
    {
     "data": {
      "text/plain": [
       "[array([[1, 2, 3, 4]]), array([[5, 6, 7, 8]])]"
      ]
     },
     "execution_count": 33,
     "metadata": {},
     "output_type": "execute_result"
    }
   ],
   "source": [
    "# For 2D\n",
    "vars1 = np.array([[1, 2, 3, 4], [5, 6, 7, 8]])\n",
    "# ars1 = np.array_split(vars1, 2) \n",
    "# ars1 = np.array_split(vars1, 2, axis=1) # Split according to axis\n",
    "# ars1 = np.hsplit(vars1, 2) # Same like splitting with axis 1\n",
    "ars1 = np.vsplit(vars1, 2) # Same like splitting with axis 0\n",
    "# ars1 = np.dsplit(vars1, 2) # It only works on array of 3 or more dimensions\n",
    "\n",
    "ars1"
   ]
  }
 ],
 "metadata": {
  "kernelspec": {
   "display_name": "Python 3",
   "language": "python",
   "name": "python3"
  },
  "language_info": {
   "codemirror_mode": {
    "name": "ipython",
    "version": 3
   },
   "file_extension": ".py",
   "mimetype": "text/x-python",
   "name": "python",
   "nbconvert_exporter": "python",
   "pygments_lexer": "ipython3",
   "version": "3.11.0"
  },
  "orig_nbformat": 4
 },
 "nbformat": 4,
 "nbformat_minor": 2
}
