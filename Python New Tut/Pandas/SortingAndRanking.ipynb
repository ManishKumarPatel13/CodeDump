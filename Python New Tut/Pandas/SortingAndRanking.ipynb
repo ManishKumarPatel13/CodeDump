{
 "cells": [
  {
   "cell_type": "code",
   "execution_count": 1,
   "metadata": {},
   "outputs": [
    {
     "name": "stdout",
     "output_type": "stream",
     "text": [
      "    Name  Age  Salary\n",
      "0  Alice   25   10000\n",
      "1    Bob   50   96000\n",
      "2  David   35   56000\n"
     ]
    }
   ],
   "source": [
    "import pandas as pd\n",
    "data = pd.DataFrame({\"Name\":[\"Alice\", \"Bob\", \"David\"], \"Age\":[25, 50, 35], \"Salary\":[10000, 96000, 56000]})\n",
    "sorted_data = data.sort_values(by=['Name', 'Salary'], ascending=[True, False])\n",
    "print(sorted_data)"
   ]
  },
  {
   "cell_type": "code",
   "execution_count": 3,
   "metadata": {},
   "outputs": [
    {
     "name": "stdout",
     "output_type": "stream",
     "text": [
      "According to ascending order of scores rank\n",
      "0    1.0\n",
      "1    3.0\n",
      "2    2.0\n",
      "Name: Salary, dtype: float64\n",
      "Rank ages in descending order, assigning minimum rank to ties\n",
      "0    3.0\n",
      "1    1.0\n",
      "2    2.0\n",
      "Name: Age, dtype: float64\n",
      "Rank Salary, treating missing values as lowest ranked\n",
      "0    1.0\n",
      "1    3.0\n",
      "2    2.0\n",
      "Name: Salary, dtype: float64\n"
     ]
    }
   ],
   "source": [
    "# Ranking \n",
    "# methods = \"average\", \"min\", \"max\", \"first\", \"dense\"\n",
    "# na_option = 'keep', 'top', 'bottom'\n",
    "\n",
    "# rank salary in ascending order (default)\n",
    "print(\"According to ascending order of scores rank\")\n",
    "ranks = data[\"Salary\"].rank()\n",
    "print(ranks)\n",
    "\n",
    "print(\"Rank ages in descending order, assigning minimum rank to ties\")\n",
    "age_ranks = data['Age'].rank(ascending=False, method='min')\n",
    "print(age_ranks)\n",
    "\n",
    "print(\"Rank Salary, treating missing values as lowest ranked\")\n",
    "ranks_with_nan = data['Salary'].rank(na_option='bottom')\n",
    "print(ranks_with_nan)"
   ]
  },
  {
   "cell_type": "code",
   "execution_count": 4,
   "metadata": {},
   "outputs": [
    {
     "name": "stdout",
     "output_type": "stream",
     "text": [
      "    Name  Age  Salary  rank\n",
      "0  Alice   25   10000   1.0\n",
      "1    Bob   50   96000   3.0\n",
      "2  David   35   56000   2.0\n"
     ]
    }
   ],
   "source": [
    "df = pd.DataFrame({\"Name\":[\"Alice\", \"Bob\", \"David\"], \"Age\": [25, 50, 35], \"Salary\":[10000, 96000, 56000]})\n",
    "df['rank'] = df['Age'].rank(method='average')\n",
    "print(df)"
   ]
  }
 ],
 "metadata": {
  "kernelspec": {
   "display_name": "Python 3",
   "language": "python",
   "name": "python3"
  },
  "language_info": {
   "codemirror_mode": {
    "name": "ipython",
    "version": 3
   },
   "file_extension": ".py",
   "mimetype": "text/x-python",
   "name": "python",
   "nbconvert_exporter": "python",
   "pygments_lexer": "ipython3",
   "version": "3.11.0"
  }
 },
 "nbformat": 4,
 "nbformat_minor": 2
}
