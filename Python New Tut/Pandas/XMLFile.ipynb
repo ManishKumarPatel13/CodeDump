{
 "cells": [
  {
   "cell_type": "code",
   "execution_count": 6,
   "metadata": {},
   "outputs": [],
   "source": [
    "import pandas as pd\n",
    "import numpy as np\n",
    "\n",
    "var = pd.DataFrame({\"BookId\":['isbn2022', 'isbn2023'],\n",
    "                    \"Author\":[('ross', 'mark'),\n",
    "                              ('Bracket', 'Barbara')],\n",
    "                    \"Genre\":[\"Computer\", \"Computer\"],\n",
    "                    \"price\":[23.56, 35.59],\n",
    "                    \"PublishDate\":['2014-22-01', '2014-12-16']})\n",
    "\n",
    "var.to_xml('test1.xml', index=False)\n",
    "\n",
    "\n"
   ]
  },
  {
   "cell_type": "code",
   "execution_count": 7,
   "metadata": {},
   "outputs": [
    {
     "data": {
      "text/html": [
       "<div>\n",
       "<style scoped>\n",
       "    .dataframe tbody tr th:only-of-type {\n",
       "        vertical-align: middle;\n",
       "    }\n",
       "\n",
       "    .dataframe tbody tr th {\n",
       "        vertical-align: top;\n",
       "    }\n",
       "\n",
       "    .dataframe thead th {\n",
       "        text-align: right;\n",
       "    }\n",
       "</style>\n",
       "<table border=\"1\" class=\"dataframe\">\n",
       "  <thead>\n",
       "    <tr style=\"text-align: right;\">\n",
       "      <th></th>\n",
       "      <th>BookId</th>\n",
       "      <th>Author</th>\n",
       "      <th>Genre</th>\n",
       "      <th>price</th>\n",
       "      <th>PublishDate</th>\n",
       "    </tr>\n",
       "  </thead>\n",
       "  <tbody>\n",
       "    <tr>\n",
       "      <th>0</th>\n",
       "      <td>isbn2022</td>\n",
       "      <td>('ross', 'mark')</td>\n",
       "      <td>Computer</td>\n",
       "      <td>23.56</td>\n",
       "      <td>2014-22-01</td>\n",
       "    </tr>\n",
       "    <tr>\n",
       "      <th>1</th>\n",
       "      <td>isbn2023</td>\n",
       "      <td>('Bracket', 'Barbara')</td>\n",
       "      <td>Computer</td>\n",
       "      <td>35.59</td>\n",
       "      <td>2014-12-16</td>\n",
       "    </tr>\n",
       "  </tbody>\n",
       "</table>\n",
       "</div>"
      ],
      "text/plain": [
       "     BookId                  Author     Genre  price PublishDate\n",
       "0  isbn2022        ('ross', 'mark')  Computer  23.56  2014-22-01\n",
       "1  isbn2023  ('Bracket', 'Barbara')  Computer  35.59  2014-12-16"
      ]
     },
     "execution_count": 7,
     "metadata": {},
     "output_type": "execute_result"
    }
   ],
   "source": [
    "var2 = pd.read_xml('test1.xml')\n",
    "var2"
   ]
  },
  {
   "cell_type": "code",
   "execution_count": 8,
   "metadata": {},
   "outputs": [],
   "source": [
    "from lxml import objectify\n",
    "xml = objectify.parse('test1.xml')\n",
    "root = xml.getroot()\n"
   ]
  },
  {
   "cell_type": "code",
   "execution_count": null,
   "metadata": {},
   "outputs": [],
   "source": []
  }
 ],
 "metadata": {
  "kernelspec": {
   "display_name": "Python 3",
   "language": "python",
   "name": "python3"
  },
  "language_info": {
   "codemirror_mode": {
    "name": "ipython",
    "version": 3
   },
   "file_extension": ".py",
   "mimetype": "text/x-python",
   "name": "python",
   "nbconvert_exporter": "python",
   "pygments_lexer": "ipython3",
   "version": "3.12.0"
  }
 },
 "nbformat": 4,
 "nbformat_minor": 2
}
