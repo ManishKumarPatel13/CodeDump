{
 "cells": [
  {
   "cell_type": "markdown",
   "metadata": {},
   "source": [
    "# Data Structures in pandas"
   ]
  },
  {
   "cell_type": "markdown",
   "metadata": {},
   "source": [
    "The pandas provides two data structures for processing the data.<br>\n",
    "(Series and DataFrame) and Panel"
   ]
  },
  {
   "cell_type": "markdown",
   "metadata": {},
   "source": [
    "# Series"
   ]
  },
  {
   "cell_type": "code",
   "execution_count": 13,
   "metadata": {},
   "outputs": [
    {
     "name": "stdout",
     "output_type": "stream",
     "text": [
      "i)      3\n",
      "ii)     4\n",
      "iii)    5\n",
      "iv)     6\n",
      "v)      7\n",
      "vi)     8\n",
      "Name: python, dtype: int64\n",
      "<class 'pandas.core.series.Series'>\n"
     ]
    }
   ],
   "source": [
    "# Series is for 1D data sets\n",
    "import pandas as pd\n",
    "x = [3, 4, 5, 6, 7, 8]\n",
    "var = pd.Series(x, index=['i)', 'ii)', 'iii)', 'iv)', 'v)', 'vi)'], name=\"python\") # This will the change the index values and you can also change dtype\n",
    "print(var) # this will give the value at index 0\n",
    "print(type(var))\n"
   ]
  },
  {
   "cell_type": "code",
   "execution_count": 14,
   "metadata": {},
   "outputs": [
    {
     "name": "stdout",
     "output_type": "stream",
     "text": [
      "name    [python, c, Cpp, java]\n",
      "pro           [12, 13, 14, 15]\n",
      "dtype: object\n"
     ]
    }
   ],
   "source": [
    "# using dictonary\n",
    "dc = {\"name\": [\"python\", \"c\", \"Cpp\", \"java\"], \"pro\":[12, 13, 14, 15]}\n",
    "var1 = pd.Series(dc) # In this series made using dictionaries you get the key values as indices \n",
    "print(var1)"
   ]
  },
  {
   "cell_type": "code",
   "execution_count": 17,
   "metadata": {},
   "outputs": [
    {
     "name": "stdout",
     "output_type": "stream",
     "text": [
      "1    14.0\n",
      "2    14.0\n",
      "3    14.0\n",
      "4     NaN\n",
      "5     NaN\n",
      "6     NaN\n",
      "dtype: float64\n"
     ]
    }
   ],
   "source": [
    "s1 = pd.Series(7, index=[1, 2, 3, 4, 5, 6]) # This will create a series of 12 for given indices\n",
    "s2 = pd.Series(7, index=[1, 2, 3])\n",
    "print(s1 + s2) # if we do this in numpy we'll get broadcasting error but in series we can perform this.\n",
    "               # but this will give the data till one of them has reached the last index then after it will provide null\n"
   ]
  }
 ],
 "metadata": {
  "kernelspec": {
   "display_name": "Python 3",
   "language": "python",
   "name": "python3"
  },
  "language_info": {
   "codemirror_mode": {
    "name": "ipython",
    "version": 3
   },
   "file_extension": ".py",
   "mimetype": "text/x-python",
   "name": "python",
   "nbconvert_exporter": "python",
   "pygments_lexer": "ipython3",
   "version": "3.11.0"
  },
  "orig_nbformat": 4
 },
 "nbformat": 4,
 "nbformat_minor": 2
}
