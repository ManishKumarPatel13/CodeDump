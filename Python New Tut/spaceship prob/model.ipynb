{
 "cells": [
  {
   "cell_type": "code",
   "execution_count": 6,
   "metadata": {},
   "outputs": [
    {
     "data": {
      "text/plain": [
       "CryoSleep_False              0\n",
       "CryoSleep_True               0\n",
       "Destination_55 Cancri e      0\n",
       "Destination_PSO J318.5-22    0\n",
       "Destination_TRAPPIST-1e      0\n",
       "HomePlanet_Earth             0\n",
       "HomePlanet_Europa            0\n",
       "HomePlanet_Mars              0\n",
       "VIP_False                    0\n",
       "VIP_True                     0\n",
       "dtype: int64"
      ]
     },
     "execution_count": 6,
     "metadata": {},
     "output_type": "execute_result"
    }
   ],
   "source": [
    "import numpy as np \n",
    "import pandas as pd\n",
    "from sklearn.ensemble import RandomForestClassifier\n",
    "\n",
    "Train = pd.read_csv(\"D:\\CodeDump\\Python New Tut\\spaceship prob\\\\train.csv\")\n",
    "Test = pd.read_csv(\"D:\\CodeDump\\Python New Tut\\spaceship prob\\\\test.csv\")\n",
    "featues = [\"CryoSleep\", \"Destination\", \"HomePlanet\", \"VIP\"]\n",
    "X = pd.get_dummies(Train[featues])\n",
    "test_X = pd.get_dummies(Test[featues])\n",
    "Y = Train[\"Transported\"]\n",
    "X.isnull().sum()"
   ]
  },
  {
   "cell_type": "code",
   "execution_count": 11,
   "metadata": {},
   "outputs": [],
   "source": [
    "model = RandomForestClassifier(n_estimators=100, random_state=1, max_depth=5)\n",
    "model.fit(X, Y)\n",
    "predict = model.predict(test_X)\n",
    "df = pd.DataFrame({\"PassengerId\":Test.PassengerId, \"Transported\":predict})\n",
    "df.to_csv(\"Submission.csv\", index=False)"
   ]
  }
 ],
 "metadata": {
  "kernelspec": {
   "display_name": "Python 3",
   "language": "python",
   "name": "python3"
  },
  "language_info": {
   "codemirror_mode": {
    "name": "ipython",
    "version": 3
   },
   "file_extension": ".py",
   "mimetype": "text/x-python",
   "name": "python",
   "nbconvert_exporter": "python",
   "pygments_lexer": "ipython3",
   "version": "3.11.0"
  }
 },
 "nbformat": 4,
 "nbformat_minor": 2
}
