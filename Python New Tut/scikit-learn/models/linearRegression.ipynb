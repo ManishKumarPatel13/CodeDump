{
 "cells": [
  {
   "cell_type": "code",
   "execution_count": 8,
   "metadata": {},
   "outputs": [
    {
     "name": "stdout",
     "output_type": "stream",
     "text": [
      "[600000.]\n"
     ]
    }
   ],
   "source": [
    "import numpy as np\n",
    "from sklearn.linear_model import LinearRegression\n",
    "\n",
    "# Create a dataset of house prices and square footage\n",
    "house_prices = np.array([200000, 300000, 400000, 500000])\n",
    "square_footage = np.array([1000, 1500, 2000, 2500])\n",
    "square_footage = square_footage.reshape(-1, 1)\n",
    "\n",
    "# Create a linear regression model\n",
    "model = LinearRegression()\n",
    "\n",
    "# Train the model\n",
    "model.fit(square_footage, house_prices)\n",
    "\n",
    "# Make a prediction for a new house with 3000 square feet\n",
    "prediction_value = np.array([])\n",
    "prediction_input = int(input())\n",
    "prediction_value = np.append(prediction_value, [prediction_input])\n",
    "prediction_value = prediction_value.reshape((1, -1))\n",
    "price_prediction = model.predict(prediction_value)\n",
    "\n",
    "# Print the predicted price\n",
    "print(price_prediction)\n"
   ]
  }
 ],
 "metadata": {
  "kernelspec": {
   "display_name": "Python 3",
   "language": "python",
   "name": "python3"
  },
  "language_info": {
   "codemirror_mode": {
    "name": "ipython",
    "version": 3
   },
   "file_extension": ".py",
   "mimetype": "text/x-python",
   "name": "python",
   "nbconvert_exporter": "python",
   "pygments_lexer": "ipython3",
   "version": "3.12.0"
  }
 },
 "nbformat": 4,
 "nbformat_minor": 2
}
